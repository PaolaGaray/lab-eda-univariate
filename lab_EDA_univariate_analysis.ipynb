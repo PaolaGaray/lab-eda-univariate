{
 "cells": [
  {
   "cell_type": "markdown",
   "id": "9fadda35-84d0-42f4-969f-ef6f02d3bdc5",
   "metadata": {},
   "source": [
    "# Lab - EDA Univariate Analysis: Diving into Amazon UK Product Insights"
   ]
  },
  {
   "cell_type": "markdown",
   "id": "0a1a0276-14de-4d83-bd28-63745f8e9a47",
   "metadata": {},
   "source": [
    "Dataset: https://www.kaggle.com/datasets/asaniczka/uk-optimal-product-price-prediction/\n",
    "\n",
    "This lab utilizes the Amazon UK product dataset which provides information on product categories, brands, prices, ratings, and more from from Amazon UK. You'll need to download it to start working with it."
   ]
  },
  {
   "cell_type": "code",
   "execution_count": 352,
   "id": "f57f4af8-48cc-4a01-b6d1-0cad321491b4",
   "metadata": {},
   "outputs": [
    {
     "data": {
      "text/html": [
       "<div>\n",
       "<style scoped>\n",
       "    .dataframe tbody tr th:only-of-type {\n",
       "        vertical-align: middle;\n",
       "    }\n",
       "\n",
       "    .dataframe tbody tr th {\n",
       "        vertical-align: top;\n",
       "    }\n",
       "\n",
       "    .dataframe thead th {\n",
       "        text-align: right;\n",
       "    }\n",
       "</style>\n",
       "<table border=\"1\" class=\"dataframe\">\n",
       "  <thead>\n",
       "    <tr style=\"text-align: right;\">\n",
       "      <th></th>\n",
       "      <th>uid</th>\n",
       "      <th>asin</th>\n",
       "      <th>title</th>\n",
       "      <th>stars</th>\n",
       "      <th>reviews</th>\n",
       "      <th>price</th>\n",
       "      <th>isBestSeller</th>\n",
       "      <th>boughtInLastMonth</th>\n",
       "      <th>category</th>\n",
       "    </tr>\n",
       "  </thead>\n",
       "  <tbody>\n",
       "    <tr>\n",
       "      <th>0</th>\n",
       "      <td>1</td>\n",
       "      <td>B09B96TG33</td>\n",
       "      <td>Echo Dot (5th generation, 2022 release) | Big ...</td>\n",
       "      <td>4.7</td>\n",
       "      <td>15308</td>\n",
       "      <td>21.99</td>\n",
       "      <td>False</td>\n",
       "      <td>0</td>\n",
       "      <td>Hi-Fi Speakers</td>\n",
       "    </tr>\n",
       "    <tr>\n",
       "      <th>1</th>\n",
       "      <td>2</td>\n",
       "      <td>B01HTH3C8S</td>\n",
       "      <td>Anker Soundcore mini, Super-Portable Bluetooth...</td>\n",
       "      <td>4.7</td>\n",
       "      <td>98099</td>\n",
       "      <td>23.99</td>\n",
       "      <td>True</td>\n",
       "      <td>0</td>\n",
       "      <td>Hi-Fi Speakers</td>\n",
       "    </tr>\n",
       "    <tr>\n",
       "      <th>2</th>\n",
       "      <td>3</td>\n",
       "      <td>B09B8YWXDF</td>\n",
       "      <td>Echo Dot (5th generation, 2022 release) | Big ...</td>\n",
       "      <td>4.7</td>\n",
       "      <td>15308</td>\n",
       "      <td>21.99</td>\n",
       "      <td>False</td>\n",
       "      <td>0</td>\n",
       "      <td>Hi-Fi Speakers</td>\n",
       "    </tr>\n",
       "    <tr>\n",
       "      <th>3</th>\n",
       "      <td>4</td>\n",
       "      <td>B09B8T5VGV</td>\n",
       "      <td>Echo Dot with clock (5th generation, 2022 rele...</td>\n",
       "      <td>4.7</td>\n",
       "      <td>7205</td>\n",
       "      <td>31.99</td>\n",
       "      <td>False</td>\n",
       "      <td>0</td>\n",
       "      <td>Hi-Fi Speakers</td>\n",
       "    </tr>\n",
       "    <tr>\n",
       "      <th>4</th>\n",
       "      <td>5</td>\n",
       "      <td>B09WX6QD65</td>\n",
       "      <td>Introducing Echo Pop | Full sound compact Wi-F...</td>\n",
       "      <td>4.6</td>\n",
       "      <td>1881</td>\n",
       "      <td>17.99</td>\n",
       "      <td>False</td>\n",
       "      <td>0</td>\n",
       "      <td>Hi-Fi Speakers</td>\n",
       "    </tr>\n",
       "  </tbody>\n",
       "</table>\n",
       "</div>"
      ],
      "text/plain": [
       "   uid        asin                                              title  stars  \\\n",
       "0    1  B09B96TG33  Echo Dot (5th generation, 2022 release) | Big ...    4.7   \n",
       "1    2  B01HTH3C8S  Anker Soundcore mini, Super-Portable Bluetooth...    4.7   \n",
       "2    3  B09B8YWXDF  Echo Dot (5th generation, 2022 release) | Big ...    4.7   \n",
       "3    4  B09B8T5VGV  Echo Dot with clock (5th generation, 2022 rele...    4.7   \n",
       "4    5  B09WX6QD65  Introducing Echo Pop | Full sound compact Wi-F...    4.6   \n",
       "\n",
       "   reviews  price  isBestSeller  boughtInLastMonth        category  \n",
       "0    15308  21.99         False                  0  Hi-Fi Speakers  \n",
       "1    98099  23.99          True                  0  Hi-Fi Speakers  \n",
       "2    15308  21.99         False                  0  Hi-Fi Speakers  \n",
       "3     7205  31.99         False                  0  Hi-Fi Speakers  \n",
       "4     1881  17.99         False                  0  Hi-Fi Speakers  "
      ]
     },
     "execution_count": 352,
     "metadata": {},
     "output_type": "execute_result"
    }
   ],
   "source": [
    "import pandas as pd\n",
    "import matplotlib.pyplot as plt\n",
    "import seaborn as sns\n",
    "import numpy as np\n",
    "from scipy.stats import skew, kurtosis\n",
    "\n",
    "%matplotlib inline\n",
    "\n",
    "dataset = 'amz_uk_price_prediction_dataset.csv'\n",
    "df = pd.read_csv(dataset)\n",
    "\n",
    "df.head()"
   ]
  },
  {
   "cell_type": "code",
   "execution_count": 353,
   "id": "7a2b9ae6-aed4-40d5-8caa-f89c03e8bb9b",
   "metadata": {},
   "outputs": [
    {
     "data": {
      "text/plain": [
       "(2443651, 9)"
      ]
     },
     "execution_count": 353,
     "metadata": {},
     "output_type": "execute_result"
    }
   ],
   "source": [
    "df.shape"
   ]
  },
  {
   "cell_type": "code",
   "execution_count": 354,
   "id": "d0507d24-2c5a-44d1-963b-b4ae184d46b1",
   "metadata": {},
   "outputs": [
    {
     "data": {
      "text/plain": [
       "uid                    int64\n",
       "asin                  object\n",
       "title                 object\n",
       "stars                float64\n",
       "reviews                int64\n",
       "price                float64\n",
       "isBestSeller            bool\n",
       "boughtInLastMonth      int64\n",
       "category              object\n",
       "dtype: object"
      ]
     },
     "execution_count": 354,
     "metadata": {},
     "output_type": "execute_result"
    }
   ],
   "source": [
    "df.dtypes"
   ]
  },
  {
   "cell_type": "code",
   "execution_count": 355,
   "id": "086daac3-3102-42d5-9677-c7c2a5460708",
   "metadata": {},
   "outputs": [
    {
     "data": {
      "text/plain": [
       "uid                  2443651\n",
       "asin                 2222742\n",
       "title                2077591\n",
       "stars                     42\n",
       "reviews                19446\n",
       "price                  82916\n",
       "isBestSeller               2\n",
       "boughtInLastMonth         25\n",
       "category                 296\n",
       "dtype: int64"
      ]
     },
     "execution_count": 355,
     "metadata": {},
     "output_type": "execute_result"
    }
   ],
   "source": [
    "df.nunique()"
   ]
  },
  {
   "cell_type": "code",
   "execution_count": 356,
   "id": "d9af2993-6e20-4b8c-a46d-993bb95a22ca",
   "metadata": {},
   "outputs": [
    {
     "data": {
      "text/plain": [
       "array(['Hi-Fi Speakers', 'CD, Disc & Tape Players', 'Wearable Technology',\n",
       "       'Light Bulbs', 'Bathroom Lighting',\n",
       "       'Heating, Cooling & Air Quality', 'Coffee & Espresso Machines',\n",
       "       'Lab & Scientific Products', 'Smart Speakers',\n",
       "       'Motorbike Clothing', 'Motorbike Accessories',\n",
       "       'Motorbike Batteries', 'Motorbike Boots & Luggage',\n",
       "       'Motorbike Chassis', 'Handmade Home & Kitchen Products',\n",
       "       'Hardware', 'Storage & Home Organisation',\n",
       "       'Fireplaces, Stoves & Accessories', 'PC Gaming Accessories',\n",
       "       'USB Gadgets', 'Blank Media Cases & Wallets', 'Car & Motorbike',\n",
       "       'Boys', 'Sports & Outdoors', 'Microphones', 'String Instruments',\n",
       "       'Karaoke Equipment', 'PA & Stage',\n",
       "       'General Music-Making Accessories', 'Wind Instruments',\n",
       "       'Handmade Gifts', 'Fragrances', 'Calendars & Personal Organisers',\n",
       "       'Furniture & Lighting', 'Computer Printers', 'Ski Goggles',\n",
       "       'Snowboards', 'Skiing Poles', 'Downhill Ski Boots',\n",
       "       'Hiking Hand & Foot Warmers', 'Pet Supplies',\n",
       "       'Plants, Seeds & Bulbs', 'Garden Furniture & Accessories',\n",
       "       'Bird & Wildlife Care', 'Storage & Organisation',\n",
       "       'Living Room Furniture', 'Bedding & Linen',\n",
       "       'Curtain & Blind Accessories', 'Skin Care',\n",
       "       \"Kids' Art & Craft Supplies\", \"Kids' Play Vehicles\", 'Hobbies',\n",
       "       'Laptops', 'Projectors', 'Graphics Cards', 'Computer Memory',\n",
       "       'Motherboards', 'Power Supplies', 'CPUs', 'Computer Screws',\n",
       "       'Streaming Clients', '3D Printers', 'Barebone PCs',\n",
       "       \"Women's Sports & Outdoor Shoes\", 'Luxury Food & Drink',\n",
       "       'Alexa Built-In Devices', 'PC & Video Games', 'SIM Cards',\n",
       "       'Mobile Phone Accessories', 'Birthday Gifts',\n",
       "       'Handmade Kitchen & Dining', 'Abrasive & Finishing Products',\n",
       "       'Professional Medical Supplies', 'Cutting Tools',\n",
       "       'Material Handling Products', 'Packaging & Shipping Supplies',\n",
       "       'Power & Hand Tools', 'Agricultural Equipment & Supplies',\n",
       "       'Tennis Shoes', 'Boating Footwear', 'Cycling Shoes', 'Bath & Body',\n",
       "       'Home Brewing & Wine Making', 'Tableware',\n",
       "       'Kitchen Storage & Organisation', 'Kitchen Tools & Gadgets',\n",
       "       'Cookware', 'Water Coolers, Filters & Cartridges',\n",
       "       'Beer, Wine & Spirits', 'Manicure & Pedicure Products', 'Flashes',\n",
       "       'Computers, Components & Accessories', 'Home Audio Record Players',\n",
       "       'Radios & Boomboxes', 'Car & Vehicle Electronics',\n",
       "       'eBook Readers & Accessories', 'Lighting',\n",
       "       'Small Kitchen Appliances', 'Motorbike Engines & Engine Parts',\n",
       "       'Motorbike Drive & Gears', 'Motorbike Brakes',\n",
       "       'Motorbike Exhaust & Exhaust Systems',\n",
       "       'Motorbike Handlebars, Controls & Grips',\n",
       "       'Mowers & Outdoor Power Tools', 'Kitchen & Bath Fixtures',\n",
       "       'Rough Plumbing', 'Monitor Accessories', 'Cables & Accessories',\n",
       "       'Guitars & Gear', 'Pens, Pencils & Writing Supplies',\n",
       "       'School & Educational Supplies', 'Ski Clothing',\n",
       "       'Outdoor Heaters & Fire Pits', 'Garden Décor', 'Beauty',\n",
       "       'Made in Italy Handmade', 'Cushions & Accessories',\n",
       "       'Home Fragrance', 'Window Treatments',\n",
       "       'Home Entertainment Furniture', 'Dining Room Furniture',\n",
       "       'Home Bar Furniture', 'Kitchen Linen', 'Mattress Pads & Toppers',\n",
       "       \"Children's Bedding\", 'Bedding Accessories',\n",
       "       'Games & Game Accessories', 'Dolls & Accessories',\n",
       "       'Sports Toys & Outdoor', 'Monitors', 'I/O Port Cards',\n",
       "       'Computer Cases', 'KVM Switches', 'Printers & Accessories',\n",
       "       'Telephones, VoIP & Accessories', 'Handmade Artwork',\n",
       "       'Industrial Electrical', 'Test & Measurement',\n",
       "       '3D Printing & Scanning', 'Basketball Footwear', 'Make-up',\n",
       "       'Surveillance Cameras', 'Photo Printers', 'Tripods & Monopods',\n",
       "       'Mobile Phones & Communication', 'Electrical Power Accessories',\n",
       "       'Radio Communication', 'Outdoor Rope Lights',\n",
       "       'Vacuums & Floorcare', 'Large Appliances', 'Motorbike Lighting',\n",
       "       'Motorbike Seat Covers', 'Motorbike Instruments',\n",
       "       'Motorbike Electrical & Batteries', 'Lights and switches', 'Plugs',\n",
       "       'Home Entertainment', 'Girls',\n",
       "       'Painting Supplies, Tools & Wall Treatments', 'Building Supplies',\n",
       "       'Safety & Security', 'Tablet Accessories',\n",
       "       'Keyboards, Mice & Input Devices', 'Laptop Accessories',\n",
       "       'Headphones & Earphones', 'Baby', 'Smartwatches',\n",
       "       'Piano & Keyboard', 'Drums & Percussion',\n",
       "       'Synthesisers, Samplers & Digital Instruments',\n",
       "       'Office Electronics', 'Office Supplies', 'Gardening',\n",
       "       'Outdoor Cooking', 'Decking & Fencing',\n",
       "       'Thermometers & Meteorological Instruments',\n",
       "       'Pools, Hot Tubs & Supplies', 'Health & Personal Care',\n",
       "       'Decorative Artificial Flora', 'Candles & Holders',\n",
       "       'Signs & Plaques', 'Home Office Furniture', 'Bathroom Furniture',\n",
       "       'Inflatable Beds, Pillows & Accessories', 'Bathroom Linen',\n",
       "       'Bedding Collections', \"Kids' Play Figures\", 'Baby & Toddler Toys',\n",
       "       'Learning & Education Toys', 'Toy Advent Calendars',\n",
       "       'Electronic Toys', 'Tablets', 'External Sound Cards',\n",
       "       'Internal TV Tuner & Video Capture Cards',\n",
       "       'External TV Tuners & Video Capture Cards',\n",
       "       'Scanners & Accessories', \"Men's Sports & Outdoor Shoes\",\n",
       "       'Darts & Dartboards', 'Table Tennis', 'Billiard, Snooker & Pool',\n",
       "       'Bowling', 'Trampolines & Accessories',\n",
       "       'Handmade Clothing, Shoes & Accessories', 'Handmade Home Décor',\n",
       "       'Handmade', 'Smart Home Security & Lighting',\n",
       "       'Professional Education Supplies',\n",
       "       'Hydraulics, Pneumatics & Plumbing', 'Ballet & Dancing Footwear',\n",
       "       'Cricket Shoes', 'Golf Shoes', 'Boxing Shoes', 'Men',\n",
       "       'Headphones, Earphones & Accessories', 'Bakeware', 'Grocery',\n",
       "       'Lenses', 'Camcorders', 'Camera & Photo Accessories',\n",
       "       'Household Batteries, Chargers & Accessories',\n",
       "       'Home Cinema, TV & Video', 'Hi-Fi & Home Audio Accessories',\n",
       "       'Portable Sound & Video Products', 'Outdoor Lighting', 'Torches',\n",
       "       'Sports Supplements', 'Ironing & Steamers',\n",
       "       \"Customers' Most Loved\", 'Cameras', 'Electrical',\n",
       "       'Construction Machinery', 'Handmade Baby Products', 'USB Hubs',\n",
       "       'Computer Audio & Video Accessories', 'Adapters',\n",
       "       'Computer & Server Racks', 'Hard Drive Accessories',\n",
       "       'Printer Accessories', 'Computer Memory Card Accessories',\n",
       "       'Uninterruptible Power Supply Units & Accessories',\n",
       "       'Luggage and travel gear', 'Bass Guitars & Gear',\n",
       "       'Recording & Computer', 'DJ & VJ Equipment',\n",
       "       'Art & Craft Supplies', 'Office Paper Products', 'Ski Helmets',\n",
       "       'Snowboard Boots', 'Snowboard Bindings', 'Downhill Skis',\n",
       "       'Snow Sledding Equipment', 'Networking Devices',\n",
       "       'Garden Storage & Housing', 'Garden Tools & Watering Equipment',\n",
       "       'Photo Frames', 'Rugs, Pads & Protectors', 'Mirrors', 'Clocks',\n",
       "       'Doormats', 'Decorative Home Accessories', 'Boxes & Organisers',\n",
       "       'Slipcovers', 'Vases', 'Bedroom Furniture', 'Hallway Furniture',\n",
       "       'Jigsaws & Puzzles', 'Building & Construction Toys',\n",
       "       'Remote & App-Controlled Devices', \"Kids' Dress Up & Pretend Play\",\n",
       "       'Soft Toys', 'Desktop PCs', 'External Optical Drives',\n",
       "       'Internal Optical Drives', 'Network Cards', 'Data Storage',\n",
       "       'Mobile Phones & Smartphones', 'Handmade Jewellery',\n",
       "       'Gifts for Him', 'Gifts for Her', 'Women', 'Hockey Shoes',\n",
       "       'Climbing Footwear', 'Equestrian Sports Boots', 'Arts & Crafts',\n",
       "       'Hair Care', 'Coffee, Tea & Espresso', 'Digital Cameras',\n",
       "       'Digital Frames', 'Action Cameras', 'Film Cameras',\n",
       "       'Binoculars, Telescopes & Optics', 'Media Streaming Devices',\n",
       "       'Hi-Fi Receivers & Separates', 'GPS, Finders & Accessories',\n",
       "       'Indoor Lighting', 'String Lights'], dtype=object)"
      ]
     },
     "execution_count": 356,
     "metadata": {},
     "output_type": "execute_result"
    }
   ],
   "source": [
    "df['category'].unique()"
   ]
  },
  {
   "cell_type": "code",
   "execution_count": 357,
   "id": "40545a1d-aa1d-4b70-ae08-e2506876c73b",
   "metadata": {},
   "outputs": [
    {
     "data": {
      "text/plain": [
       "0"
      ]
     },
     "execution_count": 357,
     "metadata": {},
     "output_type": "execute_result"
    }
   ],
   "source": [
    "df.duplicated().sum()"
   ]
  },
  {
   "cell_type": "code",
   "execution_count": 358,
   "id": "9e75adac-7a99-4013-9640-4aa65f8cadba",
   "metadata": {},
   "outputs": [
    {
     "data": {
      "text/plain": [
       "uid                  0\n",
       "asin                 0\n",
       "title                0\n",
       "stars                0\n",
       "reviews              0\n",
       "price                0\n",
       "isBestSeller         0\n",
       "boughtInLastMonth    0\n",
       "category             0\n",
       "dtype: int64"
      ]
     },
     "execution_count": 358,
     "metadata": {},
     "output_type": "execute_result"
    }
   ],
   "source": [
    "# Checking for missing data\n",
    "df.isnull().sum().sort_values(ascending=False)"
   ]
  },
  {
   "cell_type": "code",
   "execution_count": 359,
   "id": "e5215a63-85d9-4141-aca3-148a0ecaad5e",
   "metadata": {},
   "outputs": [
    {
     "data": {
      "text/plain": [
       "Index([], dtype='object')"
      ]
     },
     "execution_count": 359,
     "metadata": {},
     "output_type": "execute_result"
    }
   ],
   "source": [
    "# Identifying columns in the dataframe where over 80% of the values are missing\n",
    "df.columns[df.isnull().mean() > 0.8]"
   ]
  },
  {
   "cell_type": "code",
   "execution_count": 360,
   "id": "a95dd974-363a-40ec-8ffb-3dcff1eb9b2d",
   "metadata": {},
   "outputs": [
    {
     "data": {
      "text/plain": [
       "Index(['uid', 'stars', 'reviews', 'price', 'boughtInLastMonth'], dtype='object')"
      ]
     },
     "execution_count": 360,
     "metadata": {},
     "output_type": "execute_result"
    }
   ],
   "source": [
    "# Extracting column names with numerical data types from the dataframe\n",
    "df.select_dtypes(\"number\").columns"
   ]
  },
  {
   "cell_type": "code",
   "execution_count": 361,
   "id": "d47100f7-1832-4c1c-a2df-88137e16aaa6",
   "metadata": {},
   "outputs": [
    {
     "data": {
      "text/plain": [
       "uid                  2443651\n",
       "price                  82916\n",
       "reviews                19446\n",
       "stars                     42\n",
       "boughtInLastMonth         25\n",
       "dtype: int64"
      ]
     },
     "execution_count": 361,
     "metadata": {},
     "output_type": "execute_result"
    }
   ],
   "source": [
    "# Counting and sorting the unique values for each numerical column in descending order\n",
    "df.select_dtypes(\"number\").nunique().sort_values(ascending=False)"
   ]
  },
  {
   "cell_type": "code",
   "execution_count": 362,
   "id": "643c3bf7-bd42-4170-9d9a-405a9a4bd09f",
   "metadata": {},
   "outputs": [
    {
     "data": {
      "text/html": [
       "<div>\n",
       "<style scoped>\n",
       "    .dataframe tbody tr th:only-of-type {\n",
       "        vertical-align: middle;\n",
       "    }\n",
       "\n",
       "    .dataframe tbody tr th {\n",
       "        vertical-align: top;\n",
       "    }\n",
       "\n",
       "    .dataframe thead th {\n",
       "        text-align: right;\n",
       "    }\n",
       "</style>\n",
       "<table border=\"1\" class=\"dataframe\">\n",
       "  <thead>\n",
       "    <tr style=\"text-align: right;\">\n",
       "      <th></th>\n",
       "      <th>asin</th>\n",
       "      <th>title</th>\n",
       "      <th>category</th>\n",
       "    </tr>\n",
       "  </thead>\n",
       "  <tbody>\n",
       "    <tr>\n",
       "      <th>0</th>\n",
       "      <td>B09B96TG33</td>\n",
       "      <td>Echo Dot (5th generation, 2022 release) | Big ...</td>\n",
       "      <td>Hi-Fi Speakers</td>\n",
       "    </tr>\n",
       "    <tr>\n",
       "      <th>1</th>\n",
       "      <td>B01HTH3C8S</td>\n",
       "      <td>Anker Soundcore mini, Super-Portable Bluetooth...</td>\n",
       "      <td>Hi-Fi Speakers</td>\n",
       "    </tr>\n",
       "    <tr>\n",
       "      <th>2</th>\n",
       "      <td>B09B8YWXDF</td>\n",
       "      <td>Echo Dot (5th generation, 2022 release) | Big ...</td>\n",
       "      <td>Hi-Fi Speakers</td>\n",
       "    </tr>\n",
       "    <tr>\n",
       "      <th>3</th>\n",
       "      <td>B09B8T5VGV</td>\n",
       "      <td>Echo Dot with clock (5th generation, 2022 rele...</td>\n",
       "      <td>Hi-Fi Speakers</td>\n",
       "    </tr>\n",
       "    <tr>\n",
       "      <th>4</th>\n",
       "      <td>B09WX6QD65</td>\n",
       "      <td>Introducing Echo Pop | Full sound compact Wi-F...</td>\n",
       "      <td>Hi-Fi Speakers</td>\n",
       "    </tr>\n",
       "    <tr>\n",
       "      <th>...</th>\n",
       "      <td>...</td>\n",
       "      <td>...</td>\n",
       "      <td>...</td>\n",
       "    </tr>\n",
       "    <tr>\n",
       "      <th>2443646</th>\n",
       "      <td>B0CHSD7P2Q</td>\n",
       "      <td>Motorbike Armour, Motorbike Clothing, Cycling ...</td>\n",
       "      <td>Motorbike Clothing</td>\n",
       "    </tr>\n",
       "    <tr>\n",
       "      <th>2443647</th>\n",
       "      <td>B0B7B8FNBQ</td>\n",
       "      <td>PROFIRST Waterproof Motorcycle 2 Piece Ladies ...</td>\n",
       "      <td>Motorbike Clothing</td>\n",
       "    </tr>\n",
       "    <tr>\n",
       "      <th>2443648</th>\n",
       "      <td>B0BD5FL5FB</td>\n",
       "      <td>Men’s Motorcycle Motorbike Biker Trousers Kevl...</td>\n",
       "      <td>Motorbike Clothing</td>\n",
       "    </tr>\n",
       "    <tr>\n",
       "      <th>2443649</th>\n",
       "      <td>B008OYLL4I</td>\n",
       "      <td>Texpeed Mens Motorcycle Motorbike Biker Trouse...</td>\n",
       "      <td>Motorbike Clothing</td>\n",
       "    </tr>\n",
       "    <tr>\n",
       "      <th>2443650</th>\n",
       "      <td>B08P3W9B3T</td>\n",
       "      <td>RIDEX CJ223 Motorcycle Motorbike Jacket Armour...</td>\n",
       "      <td>Motorbike Clothing</td>\n",
       "    </tr>\n",
       "  </tbody>\n",
       "</table>\n",
       "<p>2443651 rows × 3 columns</p>\n",
       "</div>"
      ],
      "text/plain": [
       "               asin                                              title  \\\n",
       "0        B09B96TG33  Echo Dot (5th generation, 2022 release) | Big ...   \n",
       "1        B01HTH3C8S  Anker Soundcore mini, Super-Portable Bluetooth...   \n",
       "2        B09B8YWXDF  Echo Dot (5th generation, 2022 release) | Big ...   \n",
       "3        B09B8T5VGV  Echo Dot with clock (5th generation, 2022 rele...   \n",
       "4        B09WX6QD65  Introducing Echo Pop | Full sound compact Wi-F...   \n",
       "...             ...                                                ...   \n",
       "2443646  B0CHSD7P2Q  Motorbike Armour, Motorbike Clothing, Cycling ...   \n",
       "2443647  B0B7B8FNBQ  PROFIRST Waterproof Motorcycle 2 Piece Ladies ...   \n",
       "2443648  B0BD5FL5FB  Men’s Motorcycle Motorbike Biker Trousers Kevl...   \n",
       "2443649  B008OYLL4I  Texpeed Mens Motorcycle Motorbike Biker Trouse...   \n",
       "2443650  B08P3W9B3T  RIDEX CJ223 Motorcycle Motorbike Jacket Armour...   \n",
       "\n",
       "                   category  \n",
       "0            Hi-Fi Speakers  \n",
       "1            Hi-Fi Speakers  \n",
       "2            Hi-Fi Speakers  \n",
       "3            Hi-Fi Speakers  \n",
       "4            Hi-Fi Speakers  \n",
       "...                     ...  \n",
       "2443646  Motorbike Clothing  \n",
       "2443647  Motorbike Clothing  \n",
       "2443648  Motorbike Clothing  \n",
       "2443649  Motorbike Clothing  \n",
       "2443650  Motorbike Clothing  \n",
       "\n",
       "[2443651 rows x 3 columns]"
      ]
     },
     "execution_count": 362,
     "metadata": {},
     "output_type": "execute_result"
    }
   ],
   "source": [
    "# Extracting columns with object (typically string) data types to create a categorical dataframe\n",
    "# For demonstration purposes, let's consider the columns in potential_categorical_from_numerical as categorical variables.\n",
    "df_categorical = pd.concat([df.select_dtypes(\"object\"), potential_categorical_from_numerical], axis=1)\n",
    "df_categorical"
   ]
  },
  {
   "cell_type": "code",
   "execution_count": 363,
   "id": "a96a315f-51eb-40b4-91b3-bc74bdb535b6",
   "metadata": {},
   "outputs": [
    {
     "data": {
      "text/html": [
       "<div>\n",
       "<style scoped>\n",
       "    .dataframe tbody tr th:only-of-type {\n",
       "        vertical-align: middle;\n",
       "    }\n",
       "\n",
       "    .dataframe tbody tr th {\n",
       "        vertical-align: top;\n",
       "    }\n",
       "\n",
       "    .dataframe thead th {\n",
       "        text-align: right;\n",
       "    }\n",
       "</style>\n",
       "<table border=\"1\" class=\"dataframe\">\n",
       "  <thead>\n",
       "    <tr style=\"text-align: right;\">\n",
       "      <th></th>\n",
       "      <th>uid</th>\n",
       "      <th>stars</th>\n",
       "      <th>reviews</th>\n",
       "      <th>price</th>\n",
       "      <th>boughtInLastMonth</th>\n",
       "    </tr>\n",
       "  </thead>\n",
       "  <tbody>\n",
       "    <tr>\n",
       "      <th>0</th>\n",
       "      <td>1</td>\n",
       "      <td>4.7</td>\n",
       "      <td>15308</td>\n",
       "      <td>21.99</td>\n",
       "      <td>0</td>\n",
       "    </tr>\n",
       "    <tr>\n",
       "      <th>1</th>\n",
       "      <td>2</td>\n",
       "      <td>4.7</td>\n",
       "      <td>98099</td>\n",
       "      <td>23.99</td>\n",
       "      <td>0</td>\n",
       "    </tr>\n",
       "    <tr>\n",
       "      <th>2</th>\n",
       "      <td>3</td>\n",
       "      <td>4.7</td>\n",
       "      <td>15308</td>\n",
       "      <td>21.99</td>\n",
       "      <td>0</td>\n",
       "    </tr>\n",
       "    <tr>\n",
       "      <th>3</th>\n",
       "      <td>4</td>\n",
       "      <td>4.7</td>\n",
       "      <td>7205</td>\n",
       "      <td>31.99</td>\n",
       "      <td>0</td>\n",
       "    </tr>\n",
       "    <tr>\n",
       "      <th>4</th>\n",
       "      <td>5</td>\n",
       "      <td>4.6</td>\n",
       "      <td>1881</td>\n",
       "      <td>17.99</td>\n",
       "      <td>0</td>\n",
       "    </tr>\n",
       "    <tr>\n",
       "      <th>...</th>\n",
       "      <td>...</td>\n",
       "      <td>...</td>\n",
       "      <td>...</td>\n",
       "      <td>...</td>\n",
       "      <td>...</td>\n",
       "    </tr>\n",
       "    <tr>\n",
       "      <th>2443646</th>\n",
       "      <td>2828589</td>\n",
       "      <td>0.0</td>\n",
       "      <td>0</td>\n",
       "      <td>22.34</td>\n",
       "      <td>0</td>\n",
       "    </tr>\n",
       "    <tr>\n",
       "      <th>2443647</th>\n",
       "      <td>2828590</td>\n",
       "      <td>0.0</td>\n",
       "      <td>0</td>\n",
       "      <td>97.99</td>\n",
       "      <td>0</td>\n",
       "    </tr>\n",
       "    <tr>\n",
       "      <th>2443648</th>\n",
       "      <td>2828591</td>\n",
       "      <td>0.0</td>\n",
       "      <td>0</td>\n",
       "      <td>52.99</td>\n",
       "      <td>0</td>\n",
       "    </tr>\n",
       "    <tr>\n",
       "      <th>2443649</th>\n",
       "      <td>2828592</td>\n",
       "      <td>4.3</td>\n",
       "      <td>404</td>\n",
       "      <td>79.99</td>\n",
       "      <td>0</td>\n",
       "    </tr>\n",
       "    <tr>\n",
       "      <th>2443650</th>\n",
       "      <td>2828593</td>\n",
       "      <td>4.5</td>\n",
       "      <td>34</td>\n",
       "      <td>53.99</td>\n",
       "      <td>0</td>\n",
       "    </tr>\n",
       "  </tbody>\n",
       "</table>\n",
       "<p>2443651 rows × 5 columns</p>\n",
       "</div>"
      ],
      "text/plain": [
       "             uid  stars  reviews  price  boughtInLastMonth\n",
       "0              1    4.7    15308  21.99                  0\n",
       "1              2    4.7    98099  23.99                  0\n",
       "2              3    4.7    15308  21.99                  0\n",
       "3              4    4.7     7205  31.99                  0\n",
       "4              5    4.6     1881  17.99                  0\n",
       "...          ...    ...      ...    ...                ...\n",
       "2443646  2828589    0.0        0  22.34                  0\n",
       "2443647  2828590    0.0        0  97.99                  0\n",
       "2443648  2828591    0.0        0  52.99                  0\n",
       "2443649  2828592    4.3      404  79.99                  0\n",
       "2443650  2828593    4.5       34  53.99                  0\n",
       "\n",
       "[2443651 rows x 5 columns]"
      ]
     },
     "execution_count": 363,
     "metadata": {},
     "output_type": "execute_result"
    }
   ],
   "source": [
    "# Adjusting the numerical dataframe by removing the moved columns\n",
    "df_numerical = df.select_dtypes(\"number\").drop(columns=potential_categorical_from_numerical.columns)\n",
    "df_numerical"
   ]
  },
  {
   "cell_type": "markdown",
   "id": "d3ef4897-1a83-4a3c-b503-aa44e1b3732f",
   "metadata": {},
   "source": [
    "## Part 1: Understanding Product Categories\n",
    "__Business Question:__ \n",
    "What are the most popular product categories on Amazon UK, and how do they compare in terms of listing frequency?\n",
    "\n",
    "1. Frequency Tables:\n",
    "   * Generate a frequency table for the product category.\n",
    "   * Which are the top 5 most listed product categories?"
   ]
  },
  {
   "cell_type": "code",
   "execution_count": 365,
   "id": "d1d5a1e8-91f6-4a4d-9838-b02698ef4b0a",
   "metadata": {},
   "outputs": [
    {
     "data": {
      "text/plain": [
       "category\n",
       "Sports & Outdoors                         836265\n",
       "Beauty                                     19312\n",
       "Handmade Clothing, Shoes & Accessories     19229\n",
       "Bath & Body                                19092\n",
       "Birthday Gifts                             18978\n",
       "                                           ...  \n",
       "Motorbike Chassis                            107\n",
       "Plugs                                        107\n",
       "Alexa Built-In Devices                       107\n",
       "Smart Home Security & Lighting               104\n",
       "Smart Speakers                                54\n",
       "Name: count, Length: 296, dtype: int64"
      ]
     },
     "metadata": {},
     "output_type": "display_data"
    }
   ],
   "source": [
    "# Frecuency table for 'category'\n",
    "category_frequency = df['category'].value_counts()\n",
    "display(category_frequency)\n",
    "#category_counts.head(5)"
   ]
  },
  {
   "cell_type": "code",
   "execution_count": 366,
   "id": "c0830dc2-ebfe-4a31-af9a-9b0b1008a788",
   "metadata": {},
   "outputs": [
    {
     "data": {
      "text/plain": [
       "category\n",
       "Sports & Outdoors                         0.342219\n",
       "Beauty                                    0.007903\n",
       "Handmade Clothing, Shoes & Accessories    0.007869\n",
       "Bath & Body                               0.007813\n",
       "Birthday Gifts                            0.007766\n",
       "                                            ...   \n",
       "Motorbike Chassis                         0.000044\n",
       "Plugs                                     0.000044\n",
       "Alexa Built-In Devices                    0.000044\n",
       "Smart Home Security & Lighting            0.000043\n",
       "Smart Speakers                            0.000022\n",
       "Name: proportion, Length: 296, dtype: float64"
      ]
     },
     "metadata": {},
     "output_type": "display_data"
    }
   ],
   "source": [
    "# Calculating the proportion of each unique value in the 'category'\n",
    "category_proportion = df['category'].value_counts(normalize=True)\n",
    "\n",
    "display(category_proportion)"
   ]
  },
  {
   "cell_type": "code",
   "execution_count": 367,
   "id": "bb3ddf13-6971-4b7d-ba71-6d664d83d0c7",
   "metadata": {},
   "outputs": [
    {
     "data": {
      "text/html": [
       "<div>\n",
       "<style scoped>\n",
       "    .dataframe tbody tr th:only-of-type {\n",
       "        vertical-align: middle;\n",
       "    }\n",
       "\n",
       "    .dataframe tbody tr th {\n",
       "        vertical-align: top;\n",
       "    }\n",
       "\n",
       "    .dataframe thead th {\n",
       "        text-align: right;\n",
       "    }\n",
       "</style>\n",
       "<table border=\"1\" class=\"dataframe\">\n",
       "  <thead>\n",
       "    <tr style=\"text-align: right;\">\n",
       "      <th>col_0</th>\n",
       "      <th>count</th>\n",
       "    </tr>\n",
       "    <tr>\n",
       "      <th>category</th>\n",
       "      <th></th>\n",
       "    </tr>\n",
       "  </thead>\n",
       "  <tbody>\n",
       "    <tr>\n",
       "      <th>3D Printers</th>\n",
       "      <td>248</td>\n",
       "    </tr>\n",
       "    <tr>\n",
       "      <th>3D Printing &amp; Scanning</th>\n",
       "      <td>4067</td>\n",
       "    </tr>\n",
       "    <tr>\n",
       "      <th>Abrasive &amp; Finishing Products</th>\n",
       "      <td>250</td>\n",
       "    </tr>\n",
       "    <tr>\n",
       "      <th>Action Cameras</th>\n",
       "      <td>1697</td>\n",
       "    </tr>\n",
       "    <tr>\n",
       "      <th>Adapters</th>\n",
       "      <td>254</td>\n",
       "    </tr>\n",
       "    <tr>\n",
       "      <th>...</th>\n",
       "      <td>...</td>\n",
       "    </tr>\n",
       "    <tr>\n",
       "      <th>Wind Instruments</th>\n",
       "      <td>250</td>\n",
       "    </tr>\n",
       "    <tr>\n",
       "      <th>Window Treatments</th>\n",
       "      <td>239</td>\n",
       "    </tr>\n",
       "    <tr>\n",
       "      <th>Women</th>\n",
       "      <td>17772</td>\n",
       "    </tr>\n",
       "    <tr>\n",
       "      <th>Women's Sports &amp; Outdoor Shoes</th>\n",
       "      <td>1959</td>\n",
       "    </tr>\n",
       "    <tr>\n",
       "      <th>eBook Readers &amp; Accessories</th>\n",
       "      <td>246</td>\n",
       "    </tr>\n",
       "  </tbody>\n",
       "</table>\n",
       "<p>296 rows × 1 columns</p>\n",
       "</div>"
      ],
      "text/plain": [
       "col_0                           count\n",
       "category                             \n",
       "3D Printers                       248\n",
       "3D Printing & Scanning           4067\n",
       "Abrasive & Finishing Products     250\n",
       "Action Cameras                   1697\n",
       "Adapters                          254\n",
       "...                               ...\n",
       "Wind Instruments                  250\n",
       "Window Treatments                 239\n",
       "Women                           17772\n",
       "Women's Sports & Outdoor Shoes   1959\n",
       "eBook Readers & Accessories       246\n",
       "\n",
       "[296 rows x 1 columns]"
      ]
     },
     "execution_count": 367,
     "metadata": {},
     "output_type": "execute_result"
    }
   ],
   "source": [
    "# Creating a crosstab table for the 'category' column, counting occurrences for each unique value\n",
    "my_table = pd.crosstab(index = df_categorical[\"category\"],  # Make a crosstab\n",
    "                              columns=\"count\")      # Name the count column\n",
    "my_table"
   ]
  },
  {
   "cell_type": "markdown",
   "id": "1146be9e-9ff7-41b9-a7d7-e550f24e67e3",
   "metadata": {},
   "source": [
    "2. Visualizations:\n",
    "   * Display the distribution of products across different categories using a bar chart. If you face problems understanding the chart, do it for a subset of top categories.\n",
    "   * For a subset of top categories, visualize their proportions using a pie chart. Does any category dominate the listings?"
   ]
  },
  {
   "cell_type": "code",
   "execution_count": 369,
   "id": "6b529fbf-85b7-4197-967d-44daeeed9b17",
   "metadata": {},
   "outputs": [
    {
     "name": "stdout",
     "output_type": "stream",
     "text": [
      "category\n",
      "Sports & Outdoors                         836265\n",
      "Beauty                                     19312\n",
      "Handmade Clothing, Shoes & Accessories     19229\n",
      "Bath & Body                                19092\n",
      "Birthday Gifts                             18978\n",
      "Manicure & Pedicure Products               18940\n",
      "Skin Care                                  18769\n",
      "Make-up                                    18756\n",
      "Name: count, dtype: int64\n"
     ]
    }
   ],
   "source": [
    "# There is a huge number of unique categories, I'll take only the top 8\n",
    "\n",
    "# Get the top 8 most listed categories\n",
    "top_8_categories = df['category'].value_counts().head(8)\n",
    "print(top_8_categories)\n",
    "\n",
    "# Filter the df to only include the top 10 categories\n",
    "#df_top_10 = df[df['category'].isin(top_10_categories.index)]\n",
    "#print(df_top_10)"
   ]
  },
  {
   "cell_type": "code",
   "execution_count": 370,
   "id": "7f1df671-d1fc-42f3-9af1-4b8f071fee98",
   "metadata": {},
   "outputs": [
    {
     "data": {
      "image/png": "[encoded data removed]",
      "text/plain": [
       "<Figure size 640x480 with 1 Axes>"
      ]
     },
     "metadata": {},
     "output_type": "display_data"
    }
   ],
   "source": [
    "ax=sns.barplot(y=top_8_categories.index, x=top_8_categories.values, palette=\"Set3\", hue=top_8_categories.index, legend='full')\n",
    "sns.move_legend(ax, \"lower right\")"
   ]
  },
  {
   "cell_type": "code",
   "execution_count": 371,
   "id": "8e28a76c-15a6-4547-9510-5599333b43af",
   "metadata": {},
   "outputs": [
    {
     "data": {
      "image/png": "[encoded data removed]",
      "text/plain": [
       "<Figure size 640x480 with 1 Axes>"
      ]
     },
     "metadata": {},
     "output_type": "display_data"
    }
   ],
   "source": [
    "# Plotting a bar chart using the 'count' values from 'my_table', with colors sourced from the \"Set3\" palette\n",
    "fig, axes = plt.subplots()\n",
    "sns.barplot(x=my_table.index, y=my_table[\"count\"], palette=\"Set3\",hue=my_table.index, legend=False\n",
    "            ,order=['Sports & Outdoors', 'Beauty', 'Handmade Cloting, Shoes & Accessories','Bath & Body','Birthday Gifts'],ax=axes)\n",
    "axes.set_ylabel(\"Frequency\")\n",
    "axes.set_xlabel(\"Category\")\n",
    "\n",
    "# Rotate x-axis labels transversally (45 degrees to make it fully horizontal)\n",
    "plt.xticks(rotation=45)  # Change to 45 if you prefer diagonal labels\n",
    "plt.tight_layout()  # Ensures the labels fit within the plot\n",
    "\n",
    "plt.show()"
   ]
  },
  {
   "cell_type": "code",
   "execution_count": 372,
   "id": "a8b711fb-b5b6-4efe-b83a-0c0d03867704",
   "metadata": {},
   "outputs": [
    {
     "data": {
      "text/plain": [
       "([<matplotlib.patches.Wedge at 0x1e9816180>,\n",
       "  <matplotlib.patches.Wedge at 0x1e96cf800>,\n",
       "  <matplotlib.patches.Wedge at 0x1e9816840>,\n",
       "  <matplotlib.patches.Wedge at 0x1e9816d50>,\n",
       "  <matplotlib.patches.Wedge at 0x1e9817230>],\n",
       " [Text(0.6292646731933736, -0.9022338782548773, 'Sports & Outdoors'),\n",
       "  Text(-0.4403092545010633, 1.0080316266867415, 'Beauty'),\n",
       "  Text(-0.5697514105344181, 0.9409481017537796, 'Handmade Clothing, Shoes & Accessories'),\n",
       "  Text(-0.6885357285024792, 0.8578569522802508, 'Bath & Body'),\n",
       "  Text(-0.7947056991824787, 0.7605543055475315, 'Birthday Gifts')],\n",
       " [Text(0.3432352762872947, -0.49212756995720575, '91.6%'),\n",
       "  Text(-0.24016868427330723, 0.5498354327382226, '2.1%'),\n",
       "  Text(-0.3107734966551371, 0.5132444191384252, '2.1%'),\n",
       "  Text(-0.37556494281953406, 0.46792197397104585, '2.1%'),\n",
       "  Text(-0.4334758359177156, 0.4148478030259262, '2.1%')])"
      ]
     },
     "execution_count": 372,
     "metadata": {},
     "output_type": "execute_result"
    },
    {
     "data": {
      "image/png": "[encoded data removed]",
      "text/plain": [
       "<Figure size 1000x1000 with 1 Axes>"
      ]
     },
     "metadata": {},
     "output_type": "display_data"
    }
   ],
   "source": [
    "# For the pie chart I'll only take the top 5 categories\n",
    "top_5_categories = df['category'].value_counts().head(5)\n",
    "\n",
    "# Create a pie chart for the top 5 most listed categories\n",
    "plt.figure(figsize=(10, 10))\n",
    "colors = sns.color_palette(\"Set3\", len(top_5_categories))\n",
    "plt.pie(top_5_categories, labels=top_5_categories.index, autopct='%1.1f%%', startangle=140, colors=colors)"
   ]
  },
  {
   "cell_type": "markdown",
   "id": "366443db-e9e9-4b86-8464-76ec862938c2",
   "metadata": {},
   "source": [
    "#### Analysis \n",
    "*  \"Sports & Outdoors\" category has a significantly higher number of listings compared to the other categories  The overwhelming number of listings suggests that this category is a major focus area for sellers and potentially a very competitive market.\n",
    "*  Other Categories: Categories like \"Beauty,\" \"Handmade Clothing, Shoes & Accessories,\" and \"Bath & Body\" have relatively smaller bars, indicating that while they are popular, they are far less represented compared to \"Sports & Outdoors.\""
   ]
  },
  {
   "cell_type": "markdown",
   "id": "8343ea80-4899-444e-9837-af328198ab4f",
   "metadata": {},
   "source": [
    "## Part 2: Delving into Product Pricing\n",
    "__Business Question:__ How are products priced on Amazon UK, and are there specific price points or ranges that are more common?\n",
    "\n",
    "1. __Measures of Centrality:__\n",
    "\n",
    "   * Calculate the mean, median, and mode for the price of products.\n",
    "   * What's the average price point of products listed? How does this compare with the most common price point (mode)?"
   ]
  },
  {
   "cell_type": "code",
   "execution_count": 375,
   "id": "78e934e5-2ef6-4573-912a-c4904f145df5",
   "metadata": {},
   "outputs": [
    {
     "data": {
      "text/html": [
       "<div>\n",
       "<style scoped>\n",
       "    .dataframe tbody tr th:only-of-type {\n",
       "        vertical-align: middle;\n",
       "    }\n",
       "\n",
       "    .dataframe tbody tr th {\n",
       "        vertical-align: top;\n",
       "    }\n",
       "\n",
       "    .dataframe thead th {\n",
       "        text-align: right;\n",
       "    }\n",
       "</style>\n",
       "<table border=\"1\" class=\"dataframe\">\n",
       "  <thead>\n",
       "    <tr style=\"text-align: right;\">\n",
       "      <th></th>\n",
       "      <th>uid</th>\n",
       "      <th>asin</th>\n",
       "      <th>title</th>\n",
       "      <th>stars</th>\n",
       "      <th>reviews</th>\n",
       "      <th>price</th>\n",
       "      <th>isBestSeller</th>\n",
       "      <th>boughtInLastMonth</th>\n",
       "      <th>category</th>\n",
       "    </tr>\n",
       "  </thead>\n",
       "  <tbody>\n",
       "    <tr>\n",
       "      <th>0</th>\n",
       "      <td>1</td>\n",
       "      <td>B09B96TG33</td>\n",
       "      <td>Echo Dot (5th generation, 2022 release) | Big ...</td>\n",
       "      <td>4.7</td>\n",
       "      <td>15308</td>\n",
       "      <td>21.99</td>\n",
       "      <td>False</td>\n",
       "      <td>0</td>\n",
       "      <td>Hi-Fi Speakers</td>\n",
       "    </tr>\n",
       "    <tr>\n",
       "      <th>1</th>\n",
       "      <td>2</td>\n",
       "      <td>B01HTH3C8S</td>\n",
       "      <td>Anker Soundcore mini, Super-Portable Bluetooth...</td>\n",
       "      <td>4.7</td>\n",
       "      <td>98099</td>\n",
       "      <td>23.99</td>\n",
       "      <td>True</td>\n",
       "      <td>0</td>\n",
       "      <td>Hi-Fi Speakers</td>\n",
       "    </tr>\n",
       "    <tr>\n",
       "      <th>2</th>\n",
       "      <td>3</td>\n",
       "      <td>B09B8YWXDF</td>\n",
       "      <td>Echo Dot (5th generation, 2022 release) | Big ...</td>\n",
       "      <td>4.7</td>\n",
       "      <td>15308</td>\n",
       "      <td>21.99</td>\n",
       "      <td>False</td>\n",
       "      <td>0</td>\n",
       "      <td>Hi-Fi Speakers</td>\n",
       "    </tr>\n",
       "    <tr>\n",
       "      <th>3</th>\n",
       "      <td>4</td>\n",
       "      <td>B09B8T5VGV</td>\n",
       "      <td>Echo Dot with clock (5th generation, 2022 rele...</td>\n",
       "      <td>4.7</td>\n",
       "      <td>7205</td>\n",
       "      <td>31.99</td>\n",
       "      <td>False</td>\n",
       "      <td>0</td>\n",
       "      <td>Hi-Fi Speakers</td>\n",
       "    </tr>\n",
       "    <tr>\n",
       "      <th>4</th>\n",
       "      <td>5</td>\n",
       "      <td>B09WX6QD65</td>\n",
       "      <td>Introducing Echo Pop | Full sound compact Wi-F...</td>\n",
       "      <td>4.6</td>\n",
       "      <td>1881</td>\n",
       "      <td>17.99</td>\n",
       "      <td>False</td>\n",
       "      <td>0</td>\n",
       "      <td>Hi-Fi Speakers</td>\n",
       "    </tr>\n",
       "  </tbody>\n",
       "</table>\n",
       "</div>"
      ],
      "text/plain": [
       "   uid        asin                                              title  stars  \\\n",
       "0    1  B09B96TG33  Echo Dot (5th generation, 2022 release) | Big ...    4.7   \n",
       "1    2  B01HTH3C8S  Anker Soundcore mini, Super-Portable Bluetooth...    4.7   \n",
       "2    3  B09B8YWXDF  Echo Dot (5th generation, 2022 release) | Big ...    4.7   \n",
       "3    4  B09B8T5VGV  Echo Dot with clock (5th generation, 2022 rele...    4.7   \n",
       "4    5  B09WX6QD65  Introducing Echo Pop | Full sound compact Wi-F...    4.6   \n",
       "\n",
       "   reviews  price  isBestSeller  boughtInLastMonth        category  \n",
       "0    15308  21.99         False                  0  Hi-Fi Speakers  \n",
       "1    98099  23.99          True                  0  Hi-Fi Speakers  \n",
       "2    15308  21.99         False                  0  Hi-Fi Speakers  \n",
       "3     7205  31.99         False                  0  Hi-Fi Speakers  \n",
       "4     1881  17.99         False                  0  Hi-Fi Speakers  "
      ]
     },
     "execution_count": 375,
     "metadata": {},
     "output_type": "execute_result"
    }
   ],
   "source": [
    "df.head()"
   ]
  },
  {
   "cell_type": "code",
   "execution_count": 376,
   "id": "f4f11e06-a07f-4923-9c01-3548a427ab65",
   "metadata": {},
   "outputs": [
    {
     "data": {
      "text/plain": [
       "count    2.443651e+06\n",
       "mean     8.924381e+01\n",
       "std      3.456089e+02\n",
       "min      0.000000e+00\n",
       "25%      9.990000e+00\n",
       "50%      1.909000e+01\n",
       "75%      4.599000e+01\n",
       "max      1.000000e+05\n",
       "Name: price, dtype: float64"
      ]
     },
     "execution_count": 376,
     "metadata": {},
     "output_type": "execute_result"
    }
   ],
   "source": [
    "# Summary statistics for the column 'price'\n",
    "df['price'].describe()"
   ]
  },
  {
   "cell_type": "code",
   "execution_count": 377,
   "id": "32f4058a-6d50-4afa-b92e-4fc7911a78a4",
   "metadata": {},
   "outputs": [
    {
     "data": {
      "text/plain": [
       "89.24380943923663"
      ]
     },
     "execution_count": 377,
     "metadata": {},
     "output_type": "execute_result"
    }
   ],
   "source": [
    "# Calculate the mean price (average price)\n",
    "mean_price = df['price'].mean()\n",
    "mean_price"
   ]
  },
  {
   "cell_type": "code",
   "execution_count": 378,
   "id": "9201ff08-e2c4-4484-9ce4-88840f595c8e",
   "metadata": {},
   "outputs": [
    {
     "data": {
      "text/plain": [
       "19.09"
      ]
     },
     "execution_count": 378,
     "metadata": {},
     "output_type": "execute_result"
    }
   ],
   "source": [
    "# Calculate the median price\n",
    "median_price = df['price'].median()\n",
    "median_price"
   ]
  },
  {
   "cell_type": "code",
   "execution_count": 379,
   "id": "f9228261-6fcb-4025-91bd-ae79dfd594cc",
   "metadata": {},
   "outputs": [
    {
     "data": {
      "text/plain": [
       "9.99"
      ]
     },
     "execution_count": 379,
     "metadata": {},
     "output_type": "execute_result"
    }
   ],
   "source": [
    "# Calculate the mode price (most common price)\n",
    "mode_price = df['price'].mode()[0]  # .mode() returns a Series, so take the first value\n",
    "mode_price "
   ]
  },
  {
   "cell_type": "markdown",
   "id": "1f3a7b35-84a3-42f4-a6cb-87376596c9f1",
   "metadata": {},
   "source": [
    "##### Comparison between mean price and mode price\n",
    "There is a significant difference between the mean price (89.24) and the mode price (9.99).\n",
    "- Why this difference?: This large gap indicates that while most products are priced around 9.99, a smaller number of expensive items (perhaps high-end electronics or premium products) are pulling the mean price upwards.\n",
    "- The mode tells us that the majority of products listed are relatively low-cost, but the mean being much higher suggests that outliers (higher-priced items) have a strong effect on the average."
   ]
  },
  {
   "cell_type": "markdown",
   "id": "d979b14f-695a-4d2c-9c19-3ddf25b5b621",
   "metadata": {},
   "source": [
    "2. __Measures of Dispersion:__\n",
    "\n",
    "   * Determine the variance, standard deviation, range, and interquartile range for product price.\n",
    "   * How varied are the product prices? Are there any indicators of a significant spread in prices?"
   ]
  },
  {
   "cell_type": "code",
   "execution_count": 382,
   "id": "c66bb24c-c636-4c84-868d-d8c0de8c1960",
   "metadata": {},
   "outputs": [
    {
     "data": {
      "text/plain": [
       "119445.48532256528"
      ]
     },
     "execution_count": 382,
     "metadata": {},
     "output_type": "execute_result"
    }
   ],
   "source": [
    "# Variance of the price\n",
    "variance = df['price'].var()\n",
    "variance"
   ]
  },
  {
   "cell_type": "code",
   "execution_count": 383,
   "id": "d0af3e81-ad8c-45f6-95ab-0033eec5e90e",
   "metadata": {},
   "outputs": [
    {
     "data": {
      "text/plain": [
       "345.60886175352226"
      ]
     },
     "execution_count": 383,
     "metadata": {},
     "output_type": "execute_result"
    }
   ],
   "source": [
    "# Standard deviation of the price\n",
    "std_dev = df['price'].std()\n",
    "std_dev"
   ]
  },
  {
   "cell_type": "code",
   "execution_count": 384,
   "id": "59585757-a046-414d-8a64-e05f75268560",
   "metadata": {},
   "outputs": [
    {
     "data": {
      "text/plain": [
       "100000.0"
      ]
     },
     "execution_count": 384,
     "metadata": {},
     "output_type": "execute_result"
    }
   ],
   "source": [
    "# Range of the price\n",
    "price_range = df['price'].max() - df['price'].min()\n",
    "price_range"
   ]
  },
  {
   "cell_type": "code",
   "execution_count": 385,
   "id": "c22acd2d-eb79-4cb8-b3f0-f04ec0c14cab",
   "metadata": {},
   "outputs": [
    {
     "name": "stdout",
     "output_type": "stream",
     "text": [
      "Q1: (quantile 0.25) = 9.99\n",
      "Q3: (quantile 0.75) = 45.99\n"
     ]
    },
    {
     "data": {
      "text/plain": [
       "36.0"
      ]
     },
     "execution_count": 385,
     "metadata": {},
     "output_type": "execute_result"
    }
   ],
   "source": [
    "# Interquartile range (IQR) of the price\n",
    "Q1 = df['price'].quantile(0.25)  # First quartile (25th percentile)\n",
    "print(f\"Q1: (quantile 0.25) = {Q1}\")\n",
    "\n",
    "Q3 = df['price'].quantile(0.75)  # Third quartile (75th percentile)\n",
    "print(f\"Q3: (quantile 0.75) = {Q3}\")\n",
    "\n",
    "\n",
    "IQR = Q3 - Q1 # Measures the spread of the middle 50% of the data.\n",
    "IQR"
   ]
  },
  {
   "cell_type": "markdown",
   "id": "d0805df3-c404-46c2-bc2a-1491088ee86c",
   "metadata": {},
   "source": [
    "__Analysis:__\n",
    "\n",
    "Based on the results, the product prices show a __significant variation__, with clear indicators of a wide spread in pricing across the dataset. \n",
    "\n",
    "* __Standard Deviation: 345.61:__ A very high standard deviation shows that prices typically deviate quite far from the mean price (89.24). This suggests that there are many outliers, particularly high-priced products that are increasing the variability.\n",
    "\n",
    "* __Range: 10000__: The range shows that the most expensive product costs 10000 times more than the cheapest product.\n",
    "This is a massive price spread, further indicating the presence of outliers (very expensive products) that stretch the distribution.\n",
    "\n",
    "* __Interquartile Range (IQR) = 36:__ The middle 50% of the products are priced between 9.99 (25th percentile) and 45.99 (75th percentile This suggests that, despite the extreme values (like the 10000 product), most products are clustered within a relatively smaller price range. This clustering within a 36 range means the majority of products are lower-cost, but the extreme outliers inflate the spread."
   ]
  },
  {
   "cell_type": "markdown",
   "id": "a8fffe99-2892-4b45-ade0-8c6f92b958b0",
   "metadata": {},
   "source": [
    "<br>\n",
    "<br>\n",
    "<br>\n",
    "\n",
    "3. __Visualizations:__\n",
    "\n",
    "   * Is there a specific price range where most products fall? Plot a histogram to visualize the distribution of product prices. If its hard to read these diagrams, think why this is, and explain how it could be solved..\n",
    "   * Are there products that are priced significantly higher than the rest? Use a box plot to showcase the spread and potential outliers in product pricing."
   ]
  },
  {
   "cell_type": "code",
   "execution_count": 388,
   "id": "1267ac23-8384-4153-9129-f45fcea57fed",
   "metadata": {},
   "outputs": [
    {
     "data": {
      "text/plain": [
       "(27.492977566280338, 4241.616412866518)"
      ]
     },
     "execution_count": 388,
     "metadata": {},
     "output_type": "execute_result"
    }
   ],
   "source": [
    "# Shape of the Distribution\n",
    "skewness_price = df['price'].skew()\n",
    "kurtosis_price = df['price'].kurtosis()\n",
    "\n",
    "skewness_price, kurtosis_price"
   ]
  },
  {
   "cell_type": "markdown",
   "id": "e91f5dea-657f-4274-b21f-98ce7dbe84ed",
   "metadata": {},
   "source": [
    "* Skewness of 'price': (27.49)\n",
    "* Kurtosis of 'price': (4241.61)"
   ]
  },
  {
   "cell_type": "code",
   "execution_count": 390,
   "id": "890fd08e-ebba-4ab3-824a-adc8c5336110",
   "metadata": {},
   "outputs": [
    {
     "data": {
      "text/plain": [
       "Text(0, 0.5, 'Frequency')"
      ]
     },
     "execution_count": 390,
     "metadata": {},
     "output_type": "execute_result"
    },
    {
     "data": {
      "image/png": "[encoded data removed]",
      "text/plain": [
       "<Figure size 640x480 with 1 Axes>"
      ]
     },
     "metadata": {},
     "output_type": "display_data"
    }
   ],
   "source": [
    "# To determine if there is a specific price range where most products fall, \n",
    "# we can use a histogram to visualize the distribution of product prices. \n",
    "\n",
    "# 'kde=True' adds a Kernel Density Estimate plot to give an approximation of the data's distribution\n",
    "# 'bins=30' divides the data into 30 bins for more detailed granularity\n",
    "# 'color=\"salmon\"' sets the color of the bars to salmon\n",
    "sns.histplot(df['price'], kde=True, bins=50, color=\"salmon\");\n",
    "\n",
    "# Adding labels and title\n",
    "plt.title('Distribution of Product Prices on Amazon UK', fontsize=16)\n",
    "plt.xlabel('Price (€)', fontsize=14)\n",
    "plt.ylabel('Frequency', fontsize=14)"
   ]
  },
  {
   "cell_type": "markdown",
   "id": "f1f2b29c-ce0d-40d6-bf6c-d7335813fdce",
   "metadata": {},
   "source": [
    "The histogram is difficult to interpret because the x-axis scale is stretched due to a small number of extremely high-priced products (outliers), which makes it impossible to see the distribution of the majority of products.\n",
    "\n",
    "Possible Solution:\n",
    "* Check for outliers in the data and remove or limit them. Then, to avoid the frequency distortion, we can replot the histogram after addressing the issue."
   ]
  },
  {
   "cell_type": "code",
   "execution_count": 392,
   "id": "e5bca040-c2f0-4d96-be00-244660f3e742",
   "metadata": {},
   "outputs": [
    {
     "data": {
      "text/html": [
       "<div>\n",
       "<style scoped>\n",
       "    .dataframe tbody tr th:only-of-type {\n",
       "        vertical-align: middle;\n",
       "    }\n",
       "\n",
       "    .dataframe tbody tr th {\n",
       "        vertical-align: top;\n",
       "    }\n",
       "\n",
       "    .dataframe thead th {\n",
       "        text-align: right;\n",
       "    }\n",
       "</style>\n",
       "<table border=\"1\" class=\"dataframe\">\n",
       "  <thead>\n",
       "    <tr style=\"text-align: right;\">\n",
       "      <th></th>\n",
       "      <th>uid</th>\n",
       "      <th>asin</th>\n",
       "      <th>title</th>\n",
       "      <th>stars</th>\n",
       "      <th>reviews</th>\n",
       "      <th>price</th>\n",
       "      <th>isBestSeller</th>\n",
       "      <th>boughtInLastMonth</th>\n",
       "      <th>category</th>\n",
       "    </tr>\n",
       "  </thead>\n",
       "  <tbody>\n",
       "    <tr>\n",
       "      <th>18179</th>\n",
       "      <td>19721</td>\n",
       "      <td>B0B9G7M81L</td>\n",
       "      <td>KHPL Portable Handheld Chroma Meter Portable C...</td>\n",
       "      <td>0.0</td>\n",
       "      <td>0</td>\n",
       "      <td>5339.67</td>\n",
       "      <td>False</td>\n",
       "      <td>0</td>\n",
       "      <td>Lab &amp; Scientific Products</td>\n",
       "    </tr>\n",
       "    <tr>\n",
       "      <th>48738</th>\n",
       "      <td>53189</td>\n",
       "      <td>B0CHW1PBGX</td>\n",
       "      <td>ROLTIN Fireplace Electric Fireplace Stove Heat...</td>\n",
       "      <td>0.0</td>\n",
       "      <td>0</td>\n",
       "      <td>8225.98</td>\n",
       "      <td>False</td>\n",
       "      <td>0</td>\n",
       "      <td>Fireplaces, Stoves &amp; Accessories</td>\n",
       "    </tr>\n",
       "    <tr>\n",
       "      <th>49843</th>\n",
       "      <td>54295</td>\n",
       "      <td>B0CBK53WGX</td>\n",
       "      <td>Electronic Fireplace Decorate Built-in Embedde...</td>\n",
       "      <td>0.0</td>\n",
       "      <td>0</td>\n",
       "      <td>10371.02</td>\n",
       "      <td>False</td>\n",
       "      <td>0</td>\n",
       "      <td>Fireplaces, Stoves &amp; Accessories</td>\n",
       "    </tr>\n",
       "    <tr>\n",
       "      <th>49845</th>\n",
       "      <td>54297</td>\n",
       "      <td>B0CBK3LBYD</td>\n",
       "      <td>Electric Fireplace Stand Winter Column Electri...</td>\n",
       "      <td>0.0</td>\n",
       "      <td>0</td>\n",
       "      <td>10031.42</td>\n",
       "      <td>False</td>\n",
       "      <td>0</td>\n",
       "      <td>Fireplaces, Stoves &amp; Accessories</td>\n",
       "    </tr>\n",
       "    <tr>\n",
       "      <th>49846</th>\n",
       "      <td>54298</td>\n",
       "      <td>B0CBK3DGYR</td>\n",
       "      <td>Electronic Fireplace Water Vapor Fireplace Ele...</td>\n",
       "      <td>0.0</td>\n",
       "      <td>0</td>\n",
       "      <td>10700.75</td>\n",
       "      <td>False</td>\n",
       "      <td>0</td>\n",
       "      <td>Fireplaces, Stoves &amp; Accessories</td>\n",
       "    </tr>\n",
       "    <tr>\n",
       "      <th>...</th>\n",
       "      <td>...</td>\n",
       "      <td>...</td>\n",
       "      <td>...</td>\n",
       "      <td>...</td>\n",
       "      <td>...</td>\n",
       "      <td>...</td>\n",
       "      <td>...</td>\n",
       "      <td>...</td>\n",
       "      <td>...</td>\n",
       "    </tr>\n",
       "    <tr>\n",
       "      <th>2438009</th>\n",
       "      <td>2819675</td>\n",
       "      <td>B0CKX7492P</td>\n",
       "      <td>7-Foot Pool And Table Tennis Multi Game with P...</td>\n",
       "      <td>0.0</td>\n",
       "      <td>0</td>\n",
       "      <td>9336.50</td>\n",
       "      <td>False</td>\n",
       "      <td>0</td>\n",
       "      <td>Table Tennis</td>\n",
       "    </tr>\n",
       "    <tr>\n",
       "      <th>2438062</th>\n",
       "      <td>2819728</td>\n",
       "      <td>B0CJNSKBCB</td>\n",
       "      <td>Tennis Table,Full Size Folding Strong MDF Plat...</td>\n",
       "      <td>0.0</td>\n",
       "      <td>0</td>\n",
       "      <td>5200.91</td>\n",
       "      <td>False</td>\n",
       "      <td>0</td>\n",
       "      <td>Table Tennis</td>\n",
       "    </tr>\n",
       "    <tr>\n",
       "      <th>2438064</th>\n",
       "      <td>2819730</td>\n",
       "      <td>B0CJNRJ493</td>\n",
       "      <td>Table Tennis Table, Household Folding Standard...</td>\n",
       "      <td>0.0</td>\n",
       "      <td>0</td>\n",
       "      <td>6154.40</td>\n",
       "      <td>False</td>\n",
       "      <td>0</td>\n",
       "      <td>Table Tennis</td>\n",
       "    </tr>\n",
       "    <tr>\n",
       "      <th>2438117</th>\n",
       "      <td>2819784</td>\n",
       "      <td>B0CKX52Z7J</td>\n",
       "      <td>Tennis Table,Full Size Folding Strong MDF Plat...</td>\n",
       "      <td>0.0</td>\n",
       "      <td>0</td>\n",
       "      <td>5138.50</td>\n",
       "      <td>False</td>\n",
       "      <td>0</td>\n",
       "      <td>Table Tennis</td>\n",
       "    </tr>\n",
       "    <tr>\n",
       "      <th>2438121</th>\n",
       "      <td>2819788</td>\n",
       "      <td>B0CKX5SNQF</td>\n",
       "      <td>Table Tennis Table, Household Folding Standard...</td>\n",
       "      <td>0.0</td>\n",
       "      <td>0</td>\n",
       "      <td>6080.55</td>\n",
       "      <td>False</td>\n",
       "      <td>0</td>\n",
       "      <td>Table Tennis</td>\n",
       "    </tr>\n",
       "  </tbody>\n",
       "</table>\n",
       "<p>1509 rows × 9 columns</p>\n",
       "</div>"
      ],
      "text/plain": [
       "             uid        asin  \\\n",
       "18179      19721  B0B9G7M81L   \n",
       "48738      53189  B0CHW1PBGX   \n",
       "49843      54295  B0CBK53WGX   \n",
       "49845      54297  B0CBK3LBYD   \n",
       "49846      54298  B0CBK3DGYR   \n",
       "...          ...         ...   \n",
       "2438009  2819675  B0CKX7492P   \n",
       "2438062  2819728  B0CJNSKBCB   \n",
       "2438064  2819730  B0CJNRJ493   \n",
       "2438117  2819784  B0CKX52Z7J   \n",
       "2438121  2819788  B0CKX5SNQF   \n",
       "\n",
       "                                                     title  stars  reviews  \\\n",
       "18179    KHPL Portable Handheld Chroma Meter Portable C...    0.0        0   \n",
       "48738    ROLTIN Fireplace Electric Fireplace Stove Heat...    0.0        0   \n",
       "49843    Electronic Fireplace Decorate Built-in Embedde...    0.0        0   \n",
       "49845    Electric Fireplace Stand Winter Column Electri...    0.0        0   \n",
       "49846    Electronic Fireplace Water Vapor Fireplace Ele...    0.0        0   \n",
       "...                                                    ...    ...      ...   \n",
       "2438009  7-Foot Pool And Table Tennis Multi Game with P...    0.0        0   \n",
       "2438062  Tennis Table,Full Size Folding Strong MDF Plat...    0.0        0   \n",
       "2438064  Table Tennis Table, Household Folding Standard...    0.0        0   \n",
       "2438117  Tennis Table,Full Size Folding Strong MDF Plat...    0.0        0   \n",
       "2438121  Table Tennis Table, Household Folding Standard...    0.0        0   \n",
       "\n",
       "            price  isBestSeller  boughtInLastMonth  \\\n",
       "18179     5339.67         False                  0   \n",
       "48738     8225.98         False                  0   \n",
       "49843    10371.02         False                  0   \n",
       "49845    10031.42         False                  0   \n",
       "49846    10700.75         False                  0   \n",
       "...           ...           ...                ...   \n",
       "2438009   9336.50         False                  0   \n",
       "2438062   5200.91         False                  0   \n",
       "2438064   6154.40         False                  0   \n",
       "2438117   5138.50         False                  0   \n",
       "2438121   6080.55         False                  0   \n",
       "\n",
       "                                 category  \n",
       "18179           Lab & Scientific Products  \n",
       "48738    Fireplaces, Stoves & Accessories  \n",
       "49843    Fireplaces, Stoves & Accessories  \n",
       "49845    Fireplaces, Stoves & Accessories  \n",
       "49846    Fireplaces, Stoves & Accessories  \n",
       "...                                   ...  \n",
       "2438009                      Table Tennis  \n",
       "2438062                      Table Tennis  \n",
       "2438064                      Table Tennis  \n",
       "2438117                      Table Tennis  \n",
       "2438121                      Table Tennis  \n",
       "\n",
       "[1509 rows x 9 columns]"
      ]
     },
     "execution_count": 392,
     "metadata": {},
     "output_type": "execute_result"
    }
   ],
   "source": [
    "# Check for outliers in the dataset (products priced extremely high)\n",
    "df['price'].describe()\n",
    "\n",
    "# Display products with very high prices to check for outliers\n",
    "df[df['price'] > 5000]  # Check for prices higher than 5000"
   ]
  },
  {
   "cell_type": "code",
   "execution_count": 393,
   "id": "92705834-f483-43a4-8ce0-8e8f153cdae6",
   "metadata": {},
   "outputs": [],
   "source": [
    "# Cap prices at 5000 to remove unrealistic outliers\n",
    "df_cleaned = df[df['price'] <= 5000]"
   ]
  },
  {
   "cell_type": "code",
   "execution_count": 394,
   "id": "91b54569-33cd-4371-bda3-31f2ce7d375e",
   "metadata": {},
   "outputs": [
    {
     "data": {
      "image/png": "[encoded data removed]",
      "text/plain": [
       "<Figure size 1000x600 with 1 Axes>"
      ]
     },
     "metadata": {},
     "output_type": "display_data"
    }
   ],
   "source": [
    "# Replot the histogram after removing outliers\n",
    "plt.figure(figsize=(10, 6))\n",
    "sns.histplot(df_cleaned['price'], bins=50, kde=True, color='salmon')\n",
    "\n",
    "plt.title('Distribution of Product Prices on Amazon UK (After Outlier Removal)', fontsize=16)\n",
    "plt.xlabel('Price (€)', fontsize=14)\n",
    "plt.ylabel('Frequency', fontsize=14)\n",
    "\n",
    "plt.xlim(0, 600) \n",
    "plt.show()"
   ]
  },
  {
   "cell_type": "markdown",
   "id": "cb2df352-f897-484e-9194-e02ef329fd99",
   "metadata": {},
   "source": [
    "Price Concentration Around Lower Values:\n",
    "- The majority of products are priced below 100.\n",
    "- There's a sharp spike in frequency for products in the 0€ to 50€ range. This indicates that most of the products listed on Amazon UK fall within this low price range.\n",
    "- Products priced between 50€ and 100€ still have a noticeable frequency, but it's much lower than the very low-cost products\n",
    "\n",
    "Rapid Decline After 100€:\n",
    "- After 100€, the number of products drops drastically.\n",
    "- Products priced above 200€ become very rare, and beyond 300€, there are almost no listings.\n",
    "\n",
    "Skewed Distribution: The data is right-skewed, meaning the bulk of the products are on the lower end of the price spectrum, while the higher-priced products are much rarer. This results in a long right tail, which means while there are some expensive products, they are not as frequent as the lower-priced ones."
   ]
  },
  {
   "cell_type": "code",
   "execution_count": 396,
   "id": "2e7b2322-b47f-491e-9c7c-e44fe6e0364a",
   "metadata": {},
   "outputs": [
    {
     "data": {
      "image/png": "[encoded data removed]",
      "text/plain": [
       "<Figure size 2000x600 with 1 Axes>"
      ]
     },
     "metadata": {},
     "output_type": "display_data"
    }
   ],
   "source": [
    "# Plot a box plot for 'price' to visualize its central tendency, spread, and outliers.\n",
    "plt.figure(figsize=(20, 6))\n",
    "sns.boxplot(x=df['price'], color='salmon')\n",
    "\n",
    "plt.show()"
   ]
  },
  {
   "cell_type": "markdown",
   "id": "874cd446-d1c6-459c-a26b-c099dd8ccdbe",
   "metadata": {},
   "source": [
    "* There are significant outliers in the product pricing . These outliers extend all the way to the 100000 mark, which is extremely high for typical Amazon product prices.\n",
    "* These outliers are the products causing the distortion in the plot and represent the small number of very expensive items.\n",
    "* Right-Skewed Distribution: the data is heavily right-skewed, meaning most products are low-priced, but a small number of high-priced products extend far to the right, creating a long tail.\n",
    "* Extreme Outliers: These high-priced products (likely luxury items, high-end electronics, or specialized products) are skewing the plot, making it difficult to visualize the spread of most of the data."
   ]
  },
  {
   "cell_type": "markdown",
   "id": "61d9a521-0aca-49d3-9358-f0bd24245bd0",
   "metadata": {},
   "source": [
    "<br>\n",
    "<br>\n",
    "\n",
    "## Part 3: Unpacking Product Ratings\n",
    "__Business Question:__ How do customers rate products on Amazon UK, and are there any patterns or tendencies in the ratings?\n",
    "\n",
    "1. __Measures of Centrality:__\n",
    "\n",
    "   * Calculate the mean, median, and mode for the _rating_ of products.\n",
    "   * How do customers generally rate products? Is there a common trend?"
   ]
  },
  {
   "cell_type": "code",
   "execution_count": 399,
   "id": "35fcd66a-36ca-4542-9dca-20f5fc28153f",
   "metadata": {},
   "outputs": [
    {
     "data": {
      "text/html": [
       "<div>\n",
       "<style scoped>\n",
       "    .dataframe tbody tr th:only-of-type {\n",
       "        vertical-align: middle;\n",
       "    }\n",
       "\n",
       "    .dataframe tbody tr th {\n",
       "        vertical-align: top;\n",
       "    }\n",
       "\n",
       "    .dataframe thead th {\n",
       "        text-align: right;\n",
       "    }\n",
       "</style>\n",
       "<table border=\"1\" class=\"dataframe\">\n",
       "  <thead>\n",
       "    <tr style=\"text-align: right;\">\n",
       "      <th></th>\n",
       "      <th>uid</th>\n",
       "      <th>asin</th>\n",
       "      <th>title</th>\n",
       "      <th>stars</th>\n",
       "      <th>reviews</th>\n",
       "      <th>price</th>\n",
       "      <th>isBestSeller</th>\n",
       "      <th>boughtInLastMonth</th>\n",
       "      <th>category</th>\n",
       "    </tr>\n",
       "  </thead>\n",
       "  <tbody>\n",
       "    <tr>\n",
       "      <th>0</th>\n",
       "      <td>1</td>\n",
       "      <td>B09B96TG33</td>\n",
       "      <td>Echo Dot (5th generation, 2022 release) | Big ...</td>\n",
       "      <td>4.7</td>\n",
       "      <td>15308</td>\n",
       "      <td>21.99</td>\n",
       "      <td>False</td>\n",
       "      <td>0</td>\n",
       "      <td>Hi-Fi Speakers</td>\n",
       "    </tr>\n",
       "    <tr>\n",
       "      <th>1</th>\n",
       "      <td>2</td>\n",
       "      <td>B01HTH3C8S</td>\n",
       "      <td>Anker Soundcore mini, Super-Portable Bluetooth...</td>\n",
       "      <td>4.7</td>\n",
       "      <td>98099</td>\n",
       "      <td>23.99</td>\n",
       "      <td>True</td>\n",
       "      <td>0</td>\n",
       "      <td>Hi-Fi Speakers</td>\n",
       "    </tr>\n",
       "    <tr>\n",
       "      <th>2</th>\n",
       "      <td>3</td>\n",
       "      <td>B09B8YWXDF</td>\n",
       "      <td>Echo Dot (5th generation, 2022 release) | Big ...</td>\n",
       "      <td>4.7</td>\n",
       "      <td>15308</td>\n",
       "      <td>21.99</td>\n",
       "      <td>False</td>\n",
       "      <td>0</td>\n",
       "      <td>Hi-Fi Speakers</td>\n",
       "    </tr>\n",
       "    <tr>\n",
       "      <th>3</th>\n",
       "      <td>4</td>\n",
       "      <td>B09B8T5VGV</td>\n",
       "      <td>Echo Dot with clock (5th generation, 2022 rele...</td>\n",
       "      <td>4.7</td>\n",
       "      <td>7205</td>\n",
       "      <td>31.99</td>\n",
       "      <td>False</td>\n",
       "      <td>0</td>\n",
       "      <td>Hi-Fi Speakers</td>\n",
       "    </tr>\n",
       "    <tr>\n",
       "      <th>4</th>\n",
       "      <td>5</td>\n",
       "      <td>B09WX6QD65</td>\n",
       "      <td>Introducing Echo Pop | Full sound compact Wi-F...</td>\n",
       "      <td>4.6</td>\n",
       "      <td>1881</td>\n",
       "      <td>17.99</td>\n",
       "      <td>False</td>\n",
       "      <td>0</td>\n",
       "      <td>Hi-Fi Speakers</td>\n",
       "    </tr>\n",
       "  </tbody>\n",
       "</table>\n",
       "</div>"
      ],
      "text/plain": [
       "   uid        asin                                              title  stars  \\\n",
       "0    1  B09B96TG33  Echo Dot (5th generation, 2022 release) | Big ...    4.7   \n",
       "1    2  B01HTH3C8S  Anker Soundcore mini, Super-Portable Bluetooth...    4.7   \n",
       "2    3  B09B8YWXDF  Echo Dot (5th generation, 2022 release) | Big ...    4.7   \n",
       "3    4  B09B8T5VGV  Echo Dot with clock (5th generation, 2022 rele...    4.7   \n",
       "4    5  B09WX6QD65  Introducing Echo Pop | Full sound compact Wi-F...    4.6   \n",
       "\n",
       "   reviews  price  isBestSeller  boughtInLastMonth        category  \n",
       "0    15308  21.99         False                  0  Hi-Fi Speakers  \n",
       "1    98099  23.99          True                  0  Hi-Fi Speakers  \n",
       "2    15308  21.99         False                  0  Hi-Fi Speakers  \n",
       "3     7205  31.99         False                  0  Hi-Fi Speakers  \n",
       "4     1881  17.99         False                  0  Hi-Fi Speakers  "
      ]
     },
     "execution_count": 399,
     "metadata": {},
     "output_type": "execute_result"
    }
   ],
   "source": [
    "df.head()"
   ]
  },
  {
   "cell_type": "code",
   "execution_count": 400,
   "id": "2d1e7e34-4815-40e9-acc1-ddfcebd50635",
   "metadata": {},
   "outputs": [
    {
     "data": {
      "text/plain": [
       "dtype('float64')"
      ]
     },
     "execution_count": 400,
     "metadata": {},
     "output_type": "execute_result"
    }
   ],
   "source": [
    "df['stars'].dtype"
   ]
  },
  {
   "cell_type": "code",
   "execution_count": 401,
   "id": "5eec3171-6789-436a-b2ba-70b6716b98d5",
   "metadata": {},
   "outputs": [
    {
     "data": {
      "text/plain": [
       "stars\n",
       "0.0    1225641\n",
       "4.5     151577\n",
       "4.6     136995\n",
       "4.4     136165\n",
       "5.0     128492\n",
       "4.3     112564\n",
       "4.7      94566\n",
       "4.2      86871\n",
       "4.0      66089\n",
       "4.1      65115\n",
       "4.8      41858\n",
       "3.9      36555\n",
       "3.8      27876\n",
       "3.7      21137\n",
       "3.6      16219\n",
       "3.5      14673\n",
       "3.0      12819\n",
       "4.9      11081\n",
       "3.4      10355\n",
       "1.0       8484\n",
       "3.3       8269\n",
       "3.2       5771\n",
       "3.1       4679\n",
       "2.0       3901\n",
       "2.9       3341\n",
       "2.8       2306\n",
       "2.7       2104\n",
       "2.5       2103\n",
       "2.6       1579\n",
       "2.4       1060\n",
       "2.3        734\n",
       "2.2        602\n",
       "2.1        540\n",
       "1.5        404\n",
       "1.9        300\n",
       "1.8        249\n",
       "1.7        177\n",
       "1.4        149\n",
       "1.6        147\n",
       "1.3         78\n",
       "1.2         23\n",
       "1.1          3\n",
       "Name: count, dtype: int64"
      ]
     },
     "metadata": {},
     "output_type": "display_data"
    }
   ],
   "source": [
    "# Frecuency table for 'stars'\n",
    "stars_frequency = df['stars'].value_counts()\n",
    "display(stars_frequency)"
   ]
  },
  {
   "cell_type": "code",
   "execution_count": 402,
   "id": "3992be04-f5f2-43e4-b6b2-7607a4d7cde8",
   "metadata": {},
   "outputs": [
    {
     "data": {
      "text/plain": [
       "0"
      ]
     },
     "execution_count": 402,
     "metadata": {},
     "output_type": "execute_result"
    }
   ],
   "source": [
    "# Checking for missing data\n",
    "df['stars'].isnull().sum()"
   ]
  },
  {
   "cell_type": "code",
   "execution_count": 403,
   "id": "65505e30-3533-41f7-a9ba-849be9318066",
   "metadata": {},
   "outputs": [
    {
     "data": {
      "text/plain": [
       "(1218010, 9)"
      ]
     },
     "execution_count": 403,
     "metadata": {},
     "output_type": "execute_result"
    }
   ],
   "source": [
    "# Remove rows where the 'stars' column is 0.0 (likely missing values)\n",
    "df_cleaned = df[df['stars'] != 0.0]\n",
    "\n",
    "df_cleaned.shape"
   ]
  },
  {
   "cell_type": "code",
   "execution_count": 404,
   "id": "a8db3f7b-06fd-4eb9-906d-f130c39358b0",
   "metadata": {},
   "outputs": [
    {
     "data": {
      "text/plain": [
       "count    1.218010e+06\n",
       "mean     4.319161e+00\n",
       "std      5.552868e-01\n",
       "min      1.000000e+00\n",
       "25%      4.100000e+00\n",
       "50%      4.400000e+00\n",
       "75%      4.600000e+00\n",
       "max      5.000000e+00\n",
       "Name: stars, dtype: float64"
      ]
     },
     "execution_count": 404,
     "metadata": {},
     "output_type": "execute_result"
    }
   ],
   "source": [
    "# Summary statistics for the column 'stars'\n",
    "df_cleaned['stars'].describe()"
   ]
  },
  {
   "cell_type": "code",
   "execution_count": 405,
   "id": "7fe5dbb6-e411-4652-a853-6e069f081cfe",
   "metadata": {},
   "outputs": [
    {
     "data": {
      "text/plain": [
       "4.31916076222691"
      ]
     },
     "execution_count": 405,
     "metadata": {},
     "output_type": "execute_result"
    }
   ],
   "source": [
    "# Calculate the mean stars (average rating)\n",
    "mean_rating = df_cleaned['stars'].mean()\n",
    "mean_rating"
   ]
  },
  {
   "cell_type": "code",
   "execution_count": 406,
   "id": "91e950aa-e135-4b44-885d-e16994b03eb7",
   "metadata": {},
   "outputs": [
    {
     "data": {
      "text/plain": [
       "4.4"
      ]
     },
     "execution_count": 406,
     "metadata": {},
     "output_type": "execute_result"
    }
   ],
   "source": [
    "# Calculate the median stars (median rating)\n",
    "median_rating = df_cleaned['stars'].median()\n",
    "median_rating"
   ]
  },
  {
   "cell_type": "code",
   "execution_count": 407,
   "id": "2bf66e62-05a5-46b1-a04c-7e7e96859105",
   "metadata": {},
   "outputs": [
    {
     "data": {
      "text/plain": [
       "4.5"
      ]
     },
     "execution_count": 407,
     "metadata": {},
     "output_type": "execute_result"
    }
   ],
   "source": [
    "# Calculate the moda stars (moda rating)\n",
    "mode_rating = df_cleaned['stars'].mode()[0]\n",
    "mode_rating"
   ]
  },
  {
   "cell_type": "markdown",
   "id": "230f7cef-93c3-4423-a91f-a3fffa5c5ba4",
   "metadata": {},
   "source": [
    "__How Do Customers Generally Rate Products?__\n",
    "- Customers tend to rate products very highly, as indicated by the mean, median, and mode all being over 4.0 stars. This strong bias towards higher ratings reflects a general satisfaction with the products available on Amazon UK.\n",
    "- 75% of the ratings are above 4.0 stars."
   ]
  },
  {
   "cell_type": "markdown",
   "id": "669e87d2-29e5-4de7-9885-a8aad1e79fbd",
   "metadata": {},
   "source": [
    "2. __Measures of Dispersion:__\n",
    "\n",
    "* Determine the variance, standard deviation, and interquartile range for product rating.\n",
    "* Are the ratings consistent, or is there a wide variation in customer feedback?"
   ]
  },
  {
   "cell_type": "code",
   "execution_count": 410,
   "id": "c12b4d9b-087c-40a6-bd15-b092285f3bf4",
   "metadata": {},
   "outputs": [
    {
     "data": {
      "text/plain": [
       "0.3083433752380519"
      ]
     },
     "execution_count": 410,
     "metadata": {},
     "output_type": "execute_result"
    }
   ],
   "source": [
    "# Variance of the rating\n",
    "variance = df_cleaned['stars'].var()\n",
    "variance"
   ]
  },
  {
   "cell_type": "code",
   "execution_count": 411,
   "id": "3a383e84-2542-49ed-aeaa-0346ccdd1dc8",
   "metadata": {},
   "outputs": [
    {
     "data": {
      "text/plain": [
       "0.5552867504614637"
      ]
     },
     "execution_count": 411,
     "metadata": {},
     "output_type": "execute_result"
    }
   ],
   "source": [
    "# Standard deviation of the rating\n",
    "std_dev = df_cleaned['stars'].std()\n",
    "std_dev"
   ]
  },
  {
   "cell_type": "code",
   "execution_count": 412,
   "id": "9137facf-ce44-4224-ae9c-3efdeeafbae1",
   "metadata": {},
   "outputs": [
    {
     "data": {
      "text/plain": [
       "5.0"
      ]
     },
     "execution_count": 412,
     "metadata": {},
     "output_type": "execute_result"
    }
   ],
   "source": [
    "# Range of the rating\n",
    "rating_range = df_cleaned['stars'].max() - df['stars'].min()\n",
    "rating_range"
   ]
  },
  {
   "cell_type": "code",
   "execution_count": 413,
   "id": "981eeb50-5834-4402-ad3b-fb003e5b9200",
   "metadata": {},
   "outputs": [
    {
     "name": "stdout",
     "output_type": "stream",
     "text": [
      "Q1: (quantile 0.25) = 4.1\n",
      "Q3: (quantile 0.75) = 4.6\n"
     ]
    },
    {
     "data": {
      "text/plain": [
       "0.5"
      ]
     },
     "execution_count": 413,
     "metadata": {},
     "output_type": "execute_result"
    }
   ],
   "source": [
    "# Interquartile range (IQR) of the rating\n",
    "Q1 = df_cleaned['stars'].quantile(0.25)  # First quartile (25th percentile)\n",
    "print(f\"Q1: (quantile 0.25) = {Q1}\")\n",
    "\n",
    "Q3 = df_cleaned['stars'].quantile(0.75)  # Third quartile (75th percentile)\n",
    "print(f\"Q3: (quantile 0.75) = {Q3}\")\n",
    "\n",
    "\n",
    "IQR = Q3 - Q1 # Measures the spread of the middle 50% of the data.\n",
    "IQR"
   ]
  },
  {
   "cell_type": "markdown",
   "id": "88b4236f-5ec6-4132-9e71-f0c59665d140",
   "metadata": {},
   "source": [
    "__Analysis:__\n",
    "* Consistency in Ratings: The low variance and standard deviation indicate that most ratings are closely concentrated around the mean, suggesting high consistency in customer feedback. The IQR of 0.5 confirms that the middle 50% of the ratings are tightly packed between 4.1 and 4.6, showing that a large portion of customers tends to rate products within this range.\n",
    "\n",
    "* Limited Variation: The concentration of ratings in a narrow range (with most between 4.1 and 4.6) indicates that there isn't a wide variation in customer feedback, and ratings are relatively uniform."
   ]
  },
  {
   "cell_type": "markdown",
   "id": "e589f53e-1ff0-4399-bb10-4a1ff93df18f",
   "metadata": {},
   "source": [
    "<br>\n",
    "<br>\n",
    "\n",
    "3. __Shape of the Distribution:__\n",
    "* Calculate the skewness and kurtosis for the rating column.\n",
    "* Are the ratings normally distributed, or do they lean towards higher or lower values?"
   ]
  },
  {
   "cell_type": "code",
   "execution_count": 467,
   "id": "e809e4b6-b573-4313-a87c-4d537b52681c",
   "metadata": {},
   "outputs": [
    {
     "data": {
      "text/plain": [
       "(-2.3795681122127945, 9.78193769066435)"
      ]
     },
     "execution_count": 467,
     "metadata": {},
     "output_type": "execute_result"
    }
   ],
   "source": [
    "# Shape of the Distribution\n",
    "skewness_rating = df_cleaned['stars'].skew()\n",
    "kurtosis_rating = df_cleaned['stars'].kurtosis()\n",
    "\n",
    "skewness_rating, kurtosis_rating"
   ]
  },
  {
   "cell_type": "markdown",
   "id": "6cd41be6-374b-4f8b-b060-72dc07966244",
   "metadata": {},
   "source": [
    "- The negative skewness indicates that the distribution is left-skewed. This means that the majority of the ratings are concentrated at the higher end (closer to 5 stars), but there is a long tail on the left side, reflecting some lower ratings (e.g., 1-star and 2-star reviews).\n",
    "- A skewness value of -2.38 is quite pronounced, confirming that most products receive high ratings, with relatively fewer ratings on the lower end.\n",
    "- A kurtosis value of 9.78 is much higher than 3, which indicates that the distribution is leptokurtic. This means the distribution has heavy tails, or in other words, there are more extreme values (outliers) compared to a normal distribution.\n",
    "\n",
    "__Conclusion:__\n",
    "- The product ratings are __not normally distributed__. Instead, they are heavily left-skewed towards high ratings with a peak around 4-5 stars, reflecting that most customers are generally satisfied with their purchases.\n",
    "- The high kurtosis shows that while most ratings are clustered at the high end, a small number of products receive extremely low ratings, contributing to the long left tail."
   ]
  },
  {
   "cell_type": "markdown",
   "id": "93e72f07-a64b-47e3-998a-9391807286bd",
   "metadata": {},
   "source": [
    "<br>\n",
    "<br>\n",
    "\n",
    "4. __Visualizations:__\n",
    "* Plot a histogram to visualize the distribution of product ratings. Is there a specific rating that is more common?"
   ]
  },
  {
   "cell_type": "code",
   "execution_count": 470,
   "id": "c99fbe05-bb99-4c43-84da-d6938b371189",
   "metadata": {},
   "outputs": [
    {
     "data": {
      "image/png": "[encoded data removed]",
      "text/plain": [
       "<Figure size 640x480 with 1 Axes>"
      ]
     },
     "metadata": {},
     "output_type": "display_data"
    }
   ],
   "source": [
    "# Plotting a histogram for the 'stars' column in the cleaned dataset\n",
    "#plt.figure(figsize=(10, 6))\n",
    "sns.histplot(df_cleaned['stars'], bins=20, kde=True, color='salmon')\n",
    "\n",
    "# Adding labels and title\n",
    "plt.title('Distribution of Product Ratings on Amazon UK', fontsize=16)\n",
    "plt.xlabel('Star Rating', fontsize=14)\n",
    "plt.ylabel('Frequency', fontsize=14)\n",
    "\n",
    "# Display the plot\n",
    "plt.show()"
   ]
  },
  {
   "cell_type": "markdown",
   "id": "b674b5b4-ad67-4724-8670-5138ddaaf9ed",
   "metadata": {},
   "source": [
    "__Most Common Rating:__\n",
    "The peak of the distribution is at 4.5 stars, meaning that the majority of products are rated around this level. This aligns with the mode we calculated earlier, which was also 4.5 stars."
   ]
  },
  {
   "cell_type": "code",
   "execution_count": null,
   "id": "d272cbee-da17-428c-b026-f6944f3bab87",
   "metadata": {},
   "outputs": [],
   "source": []
  }
 ],
 "metadata": {
  "kernelspec": {
   "display_name": "Python 3 (ipykernel)",
   "language": "python",
   "name": "python3"
  },
  "language_info": {
   "codemirror_mode": {
    "name": "ipython",
    "version": 3
   },
   "file_extension": ".py",
   "mimetype": "text/x-python",
   "name": "python",
   "nbconvert_exporter": "python",
   "pygments_lexer": "ipython3",
   "version": "3.12.4"
  }
 },
 "nbformat": 4,
 "nbformat_minor": 5
}
